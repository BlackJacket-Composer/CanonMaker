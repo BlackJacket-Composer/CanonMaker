{
 "cells": [
  {
   "cell_type": "code",
   "execution_count": 1,
   "metadata": {
    "collapsed": false
   },
   "outputs": [],
   "source": [
    "from music21 import *\n",
    "import Similarity as sim"
   ]
  },
  {
   "cell_type": "code",
   "execution_count": 2,
   "metadata": {
    "collapsed": false
   },
   "outputs": [],
   "source": [
    "WTC = '/Users/Daniel/OneDrive/FSU/Fall 2015/Seminar/Final Project/Bach WTC Subjects/'\n",
    "wtc1_Bfmin = converter.parse('/Users/Daniel/OneDrive/FSU/Fall 2015/Seminar/Final Project/Prolation tests/Bach WTC1 Bfmin.xml')\n",
    "canon_data = {}\n",
    "WTC1_canonPercent = {0: 3.3333333333333335, 1: 1.4814814814814816, 2: 11.481481481481481, 3: 40.74074074074074, 4: 10.0, 5: 1.6666666666666667, 6: 0.0, 7: 0.7407407407407408, 8: 15.0, 9: 0.0, 10: 1.6666666666666667, 11: 11.666666666666666, 12: 5.9259259259259265, 13: 1.4814814814814816, 14: 0.0, 15: 29.444444444444446, 16: 38.333333333333336, 17: 1.4814814814814816, 18: 2.2222222222222223, 19: 1.1111111111111112, 20: 0.0, 21: 12.222222222222221, 22: 5.185185185185185, 23: 0.5555555555555556}\n",
    "WTC1_length = {0: 17, 1: 25, 2: 22, 3: 4, 4: 18, 5: 14, 6: 28, 7: 15, 8: 20, 9: 24, 10: 23, 11: 15, 12: 21, 13: 22, 14: 33, 15: 16, 16: 10, 17: 19, 18: 17, 19: 18, 20: 41, 21: 13, 22: 17, 23: 25}\n",
    "wtc_length = {0: 17, 1: 25, 2: 22, 3: 4, 4: 18, 5: 14, 6: 28, 7: 15, 8: 20, 9: 24, 10: 23, 11: 15, 12: 21, 13: 22, 14: 33, 15: 16, 16: 10, 17: 19, 18: 17, 19: 18, 20: 41, 21: 13, 22: 17, 23: 25, 24: 29, 25: 12, 26: 16, 27: 23, 28: 12, 29: 24, 30: 23, 31: 18, 32: 8, 33: 55, 34: 25, 35: 28, 36: 25, 37: 25, 38: 45, 39: 25, 40: 25, 41: 26, 42: 24, 43: 14, 44: 26, 45: 32, 46: 15, 47: 23}\n",
    "WTC_canonPercent = {0: 3.3333333333333335, 1: 1.4814814814814816, 2: 11.481481481481481, 3: 40.74074074074074, 4: 10.0, 5: 1.6666666666666667, 6: 0.0, 7: 0.7407407407407408, 8: 15.0, 9: 0.0, 10: 1.6666666666666667, 11: 11.666666666666666, 12: 5.9259259259259265, 13: 1.4814814814814816, 14: 0.0, 15: 29.444444444444446, 16: 38.333333333333336, 17: 1.4814814814814816, 18: 2.2222222222222223, 19: 1.1111111111111112, 20: 0.0, 21: 12.222222222222221, 22: 5.185185185185185, 23: 0.5555555555555556, 24: 0.8888888888888888, 25: 25.0, 26: 5.555555555555555, 27: 0.0, 28: 0.0, 29: 0.0, 30: 0.31746031746031744, 31: 1.4814814814814816, 32: 16.38888888888889, 33: 0.0, 34: 0.0, 35: 0.0, 36: 0.0, 37: 1.6666666666666667, 38: 0.0, 39: 0.6349206349206349, 40: 0.0, 41: 0.0, 42: 0.0, 43: 19.25925925925926, 44: 0.0, 45: 0.0, 46: 1.7777777777777777, 47: 0.0}\n",
    "rhythmic_variance = [30.59523809523809, 37.77777777777778, 22.22222222222222, 44.444444444444436, 67.88048552754435, 19.487179487179485, 21.7283950617284, 24.28571428571428, 20.350877192982455, 0.0, 14.545454545454545, 22.857142857142858, 33.25396825396825, 49.2063492063492, 28.749999999999996, 38.22222222222222, 22.22222222222222, 18.51851851851852, 8.333333333333332, 27.45098039215686, 9.666666666666666, 11.111111111111109, 40.833333333333336, 15.555555555555555, 14.285714285714283, 23.030303030303028, 23.703703703703702, 3.03030303030303, 24.24242424242424, 4.347826086956523, 33.333333333333336, 33.893557422969195, 28.571428571428573, 25.008818342151674, 18.055555555555554, 9.876543209876543, 29.682539682539687, 42.77777777777777, 2.727272727272727, 22.222222222222218, 26.66666666666667, 5.333333333333332, 20.289855072463766, 15.384615384615385, 5.333333333333332, 18.924731182795696, 28.571428571428566, 14.545454545454545]\n",
    "WTC_canonNumber = {0: 6, 1: 4, 2: 31, 3: 110, 4: 18, 5: 3, 6: 0, 7: 2, 8: 27, 9: 0, 10: 3, 11: 42, 12: 16, 13: 8, 14: 0, 15: 106, 16: 69, 17: 4, 18: 4, 19: 2, 20: 0, 21: 44, 22: 14, 23: 2, 24: 2, 25: 45, 26: 10, 27: 0, 28: 0, 29: 0, 30: 2, 31: 4, 32: 59, 33: 0, 34: 0, 35: 0, 36: 0, 37: 6, 38: 0, 39: 2, 40: 0, 41: 0, 42: 0, 43: 52, 44: 0, 45: 0, 46: 8, 47: 0}\n",
    "melodic_variation = [78.6497713398284, 90.76726744416143, 70.1004947114358, 86.60254037844386, 101.6782254883588, 82.21888548451322, 71.1025401052407, 86.26058265484801, 46.97408542844452, 54.692596833785515, 68.92002730341882, 101.51286955758401, 59.22469278917488, 50.41008302500835, 90.09046988296042, 103.96522472262106, 54.609194192632145, 109.66245532978276, 41.5620909893548, 45.23443208612048, 83.87654042446768, 65.46536707079771, 79.05694150420949, 81.60579579678277, 78.72376628113507, 71.26966450997983, 66.66666666666666, 71.22108635358704, 92.96222517045284, 69.85816038567194, 82.16314960794824, 92.74230003348497, 35.35533905932738, 104.51052090383932, 70.22669219871398, 101.00021523868583, 89.16798613889469, 88.57539161640776, 46.83743350642876, 113.4552701106709, 92.52717680081582, 93.87366900090764, 59.63648483460119, 41.95235392680606, 89.18825850158447, 60.57803272210589, 77.17996763956492, 112.49402634348354]\n",
    "freq_int = [2, 1, 9, -1, 2, 1, -2, -2, 2, 3, 2, -1, -2, -2, -2, 1, -4, 1, 5, 2, -2, 2, 2, -1, 2, 2, -2, 2, 0, -1, -2, -2, -2, -2, -2, 0, 2, 2, 2, 0, 2, 2, -2, -4, 0, 2, -2, 1]\n",
    "first_int = [2, -1, 2, -1, 2, 2, -3, 7, 2, 3, 2, 1, 5, 2, 2, 1, 7, -1, -1, -1, 2, -5, -1, -4, -2, -4, 4, -1, 0, 2, 7, 0, 2, 2, -1, -7, -2, -4, -3, -4, -7, 2, 2, -4, -2, 2, 4, -4]\n",
    "key_profile = {0: 0, 1: 0, 2: 1, 3: 1, 4: 2, 5: 2, 6: 3, 7: 3, 8: 4, 9: 4, 10: 5, 11: 5, 12: 6, 13: 6, 14: 7, 15: 7, 16: 8, 17: 8, 18: 9, 19: 9, 20: 10, 21: 10, 22: 11, 23: 11, 24: 0, 25: 0, 26: 1, 27: 1, 28: 2, 29: 2, 30: 3, 31: 3, 32: 4, 33: 4, 34: 5, 35: 5, 36: 6, 37: 6, 38: 7, 39: 7, 40: 8, 41: 8, 42: 9, 43: 9, 44: 10, 45: 10, 46: 11, 47: 11}\n",
    "first_pitch = [60, 72, 68, 49, 50, 62, 70, 63, 64, 64, 60, 60, 73, 54, 67, 62, 56, 56, 69, 57, 65, 70, 59, 66, 67, 67, 49, 49, 62, 62, 51, 63, 52, 64, 65, 72, 65, 61, 74, 62, 75, 68, 57, 64, 72, 58, 47, 66]\n"
   ]
  },
  {
   "cell_type": "code",
   "execution_count": 3,
   "metadata": {
    "collapsed": false
   },
   "outputs": [
    {
     "data": {
      "image/png": "[encoded data removed]",
      "text/plain": [
       "<matplotlib.figure.Figure at 0x2579f111630>"
      ]
     },
     "metadata": {},
     "output_type": "display_data"
    },
    {
     "name": "stdout",
     "output_type": "stream",
     "text": [
      "pearson (-0.2415169641265219, 0.098177372678731875)\n"
     ]
    }
   ],
   "source": [
    "sim.pearson_sim(WTC_canonNumber.values(), first_pitch)"
   ]
  },
  {
   "cell_type": "code",
   "execution_count": 4,
   "metadata": {
    "collapsed": true
   },
   "outputs": [],
   "source": [
    "for x in first_pitch:\n",
    "    x = x % 12\n",
    "    \n"
   ]
  },
  {
   "cell_type": "code",
   "execution_count": 5,
   "metadata": {
    "collapsed": false
   },
   "outputs": [],
   "source": [
    "newList = [x%12 for x in first_pitch]"
   ]
  },
  {
   "cell_type": "code",
   "execution_count": 6,
   "metadata": {
    "collapsed": false
   },
   "outputs": [],
   "source": [
    "myDict = dict(zip([x for x in range(0, 48)], newList))    \n"
   ]
  },
  {
   "cell_type": "code",
   "execution_count": 7,
   "metadata": {
    "collapsed": false
   },
   "outputs": [],
   "source": [
    "d3 = {key: abs(key_profile[key] - myDict.get(key, 0)) for key in key_profile.keys()}"
   ]
  },
  {
   "cell_type": "code",
   "execution_count": 8,
   "metadata": {
    "collapsed": false,
    "scrolled": true
   },
   "outputs": [
    {
     "data": {
      "text/plain": [
       "{0: 0,\n",
       " 1: 0,\n",
       " 2: 7,\n",
       " 3: 0,\n",
       " 4: 0,\n",
       " 5: 0,\n",
       " 6: 7,\n",
       " 7: 0,\n",
       " 8: 0,\n",
       " 9: 0,\n",
       " 10: 5,\n",
       " 11: 5,\n",
       " 12: 5,\n",
       " 13: 0,\n",
       " 14: 0,\n",
       " 15: 5,\n",
       " 16: 0,\n",
       " 17: 0,\n",
       " 18: 0,\n",
       " 19: 0,\n",
       " 20: 5,\n",
       " 21: 0,\n",
       " 22: 0,\n",
       " 23: 5,\n",
       " 24: 7,\n",
       " 25: 7,\n",
       " 26: 0,\n",
       " 27: 0,\n",
       " 28: 0,\n",
       " 29: 0,\n",
       " 30: 0,\n",
       " 31: 0,\n",
       " 32: 0,\n",
       " 33: 0,\n",
       " 34: 0,\n",
       " 35: 5,\n",
       " 36: 1,\n",
       " 37: 5,\n",
       " 38: 5,\n",
       " 39: 5,\n",
       " 40: 5,\n",
       " 41: 0,\n",
       " 42: 0,\n",
       " 43: 5,\n",
       " 44: 10,\n",
       " 45: 0,\n",
       " 46: 0,\n",
       " 47: 5}"
      ]
     },
     "execution_count": 8,
     "metadata": {},
     "output_type": "execute_result"
    }
   ],
   "source": [
    "d3"
   ]
  },
  {
   "cell_type": "code",
   "execution_count": 9,
   "metadata": {
    "collapsed": false
   },
   "outputs": [
    {
     "data": {
      "image/png": "[encoded data removed]",
      "text/plain": [
       "<matplotlib.figure.Figure at 0x2579fbed390>"
      ]
     },
     "metadata": {},
     "output_type": "display_data"
    },
    {
     "name": "stdout",
     "output_type": "stream",
     "text": [
      "pearson (0.045519851969074161, 0.7586782173338632)\n"
     ]
    }
   ],
   "source": [
    "sim.pearson_sim(WTC_canonNumber.values(), d3.values())"
   ]
  },
  {
   "cell_type": "markdown",
   "metadata": {
    "collapsed": true
   },
   "source": [
    "This is a test of what is going on. \n",
    "\n",
    "    And another thing...\n",
    "indent test is real, folks!"
   ]
  },
  {
   "cell_type": "code",
   "execution_count": null,
   "metadata": {
    "collapsed": true
   },
   "outputs": [],
   "source": []
  }
 ],
 "metadata": {
  "kernelspec": {
   "display_name": "Python 3",
   "language": "python",
   "name": "python3"
  },
  "language_info": {
   "codemirror_mode": {
    "name": "ipython",
    "version": 3
   },
   "file_extension": ".py",
   "mimetype": "text/x-python",
   "name": "python",
   "nbconvert_exporter": "python",
   "pygments_lexer": "ipython3",
   "version": "3.5.0"
  }
 },
 "nbformat": 4,
 "nbformat_minor": 0
}
